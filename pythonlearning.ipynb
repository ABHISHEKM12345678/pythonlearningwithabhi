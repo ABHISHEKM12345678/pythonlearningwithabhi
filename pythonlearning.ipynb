{
  "nbformat": 4,
  "nbformat_minor": 0,
  "metadata": {
    "colab": {
      "provenance": [],
      "authorship_tag": "ABX9TyMpMGVHg00N518JB9iDfVYo",
      "include_colab_link": true
    },
    "kernelspec": {
      "name": "python3",
      "display_name": "Python 3"
    },
    "language_info": {
      "name": "python"
    }
  },
  "cells": [
    {
      "cell_type": "markdown",
      "metadata": {
        "id": "view-in-github",
        "colab_type": "text"
      },
      "source": [
        "<a href=\"https://colab.research.google.com/github/ABHISHEKM12345678/pythonlearningwithabhi/blob/main/pythonlearning.ipynb\" target=\"_parent\"><img src=\"https://colab.research.google.com/assets/colab-badge.svg\" alt=\"Open In Colab\"/></a>"
      ]
    },
    {
      "cell_type": "markdown",
      "source": [
        "# Python\n"
      ],
      "metadata": {
        "id": "EBkU4jWqgTBC"
      }
    },
    {
      "cell_type": "markdown",
      "source": [
        "input in python\n"
      ],
      "metadata": {
        "id": "lT81X1knMO-G"
      }
    },
    {
      "cell_type": "code",
      "execution_count": null,
      "metadata": {
        "id": "MR246dF6gRCx",
        "colab": {
          "base_uri": "https://localhost:8080/"
        },
        "outputId": "90fee75d-7c8b-49ab-d905-be9cf02bcc12"
      },
      "outputs": [
        {
          "output_type": "stream",
          "name": "stdout",
          "text": [
            " 5\n",
            "5 welcome to python learning\n"
          ]
        }
      ],
      "source": [
        "x=input(\" \")\n",
        "print(x,\"welcome to python learning\")"
      ]
    },
    {
      "cell_type": "markdown",
      "source": [
        "if statment with prg x>12 or not?\n"
      ],
      "metadata": {
        "id": "vcb-xpHCM1X2"
      }
    },
    {
      "cell_type": "code",
      "source": [
        "x=10\n",
        "if x>12:\n",
        "  print(\"x is greater than 12\")\n",
        "if x<12:\n",
        "  print(\"x is less than 12\")\n",
        "print(\"done\")"
      ],
      "metadata": {
        "colab": {
          "base_uri": "https://localhost:8080/"
        },
        "id": "mb6yXxIuMZkK",
        "outputId": "d0dfd529-da9a-412c-db32-348a0e13214a"
      },
      "execution_count": null,
      "outputs": [
        {
          "output_type": "stream",
          "name": "stdout",
          "text": [
            "x is less than 12\n",
            "done\n"
          ]
        }
      ]
    },
    {
      "cell_type": "markdown",
      "source": [
        "if else with prg x is int or not?"
      ],
      "metadata": {
        "id": "tpinhw3DNsy0"
      }
    },
    {
      "cell_type": "code",
      "source": [
        "x=2\n",
        "if int==type(x):\n",
        "  print(\"x is int\")\n",
        "else:\n",
        "  print(\"x is not int\")"
      ],
      "metadata": {
        "colab": {
          "base_uri": "https://localhost:8080/"
        },
        "id": "eAVgqGCJMZh0",
        "outputId": "1c412c8c-92d8-4f4f-fcd0-eeecdf673078"
      },
      "execution_count": null,
      "outputs": [
        {
          "output_type": "stream",
          "name": "stdout",
          "text": [
            "x is int\n"
          ]
        }
      ]
    },
    {
      "cell_type": "markdown",
      "source": [
        "if elif stat"
      ],
      "metadata": {
        "id": "J7HZday2Q43p"
      }
    },
    {
      "cell_type": "code",
      "source": [
        "x = \"Hello\"  # You can change this value to test each case\n",
        "\n",
        "if x.isdigit():  # True if x = \"123\", \"007\"\n",
        "    print(\"x is all digits\")  # Only digits, no letters or spaces\n",
        "\n",
        "elif x.isalpha():  # True if x = \"Hello\", \"Python\"\n",
        "    print(\"x is all letters\")  # Only alphabets, no digits or symbols\n",
        "\n",
        "elif x.isalnum():  # True if x = \"abc123\", \"Qe12\" ← ✅ Your current input\n",
        "    print(\"x is alphanumeric (letters and numbers)\")  # Letters and digits only, no special characters\n",
        "\n",
        "elif x.islower():  # True if x = \"hello\", \"abc\"\n",
        "    print(\"x is all lowercase\")  # All alphabetic characters are lowercase\n",
        "\n",
        "elif x.isupper():  # True if x = \"HELLO\", \"ABC\"\n",
        "    print(\"x is all uppercase\")  # All alphabetic characters are uppercase\n",
        "\n",
        "elif x.istitle():  # True if x = \"Hello\", \"Title\", \"Qe\"\n",
        "    print(\"x is title case (like 'Hello')\")  # First letter capitalized, rest lowercase\n",
        "\n",
        "elif x.isspace():  # True if x = \"   \", \"\\t\"\n",
        "    print(\"x is only whitespace\")  # Only contains spaces, tabs, or newlines\n",
        "\n",
        "elif x.isnumeric():  # True if x = \"123\", \"Ⅷ\", \"²\" (includes Unicode numerals)\n",
        "    print(\"x is numeric\")  # Numbers in general (even Unicode)\n",
        "\n",
        "elif x.isdecimal():  # True if x = \"123\", \"456\" (only 0-9 digits)\n",
        "    print(\"x is decimal\")  # Only base-10 decimal numbers\n",
        "\n",
        "elif x.isidentifier():  # True if x = \"var123\", \"_data\", \"Qe12\"\n",
        "    print(\"x is a valid Python identifier\")  # Can be used as variable name\n",
        "\n",
        "elif x.isprintable():  # True if x = \"hello\", \"123\", \"!@#\"\n",
        "    print(\"x is printable\")  # All characters can be printed (no control chars like \\x00)\n",
        "\n",
        "elif x.isascii():  # True if x = \"abc123\", \"ABC!\", no emojis or special Unicode\n",
        "    print(\"x is ASCII\")  # All characters in ASCII range (0-127)\n",
        "\n",
        "else:\n",
        "    print(\"x is something else\")  # If nothing above matches\n"
      ],
      "metadata": {
        "colab": {
          "base_uri": "https://localhost:8080/"
        },
        "id": "1A_ht3cIMZgM",
        "outputId": "04fecafc-5c06-4cc5-e89d-fee176dbe2cd"
      },
      "execution_count": null,
      "outputs": [
        {
          "output_type": "stream",
          "name": "stdout",
          "text": [
            "x is all letters\n"
          ]
        }
      ]
    },
    {
      "cell_type": "markdown",
      "source": [
        "other condition statements\n"
      ],
      "metadata": {
        "id": "hNyZ9DGyWcpy"
      }
    },
    {
      "cell_type": "code",
      "source": [],
      "metadata": {
        "id": "iJ9EA5I_XUub"
      },
      "execution_count": null,
      "outputs": []
    },
    {
      "cell_type": "code",
      "source": [
        "\n",
        "\n",
        "x = 10\n",
        "y = 20\n",
        "\n",
        "# Nested if Statements\n",
        "# One if statement inside another\n",
        "if x > 0:\n",
        "    if x < 100:\n",
        "        print(\"x is a positive number less than 100\")\n",
        "\n",
        "# Short-Hand if (Ternary Operator)\n",
        "# One-line if-else to check even or odd\n",
        "print(\"Even\") if x % 2 == 0 else print(\"Odd\")\n",
        "\n",
        "# Multiple Conditions Using and, or, not\n",
        "\n",
        "# Using 'and': both conditions must be True\n",
        "if x > 5 and y > 15:\n",
        "    print(\"Both conditions are true\")\n",
        "\n",
        "# Using 'or': at least one condition must be True\n",
        "if x > 15 or y > 15:\n",
        "    print(\"At least one condition is true\")\n",
        "\n",
        "# Using 'not': reverses the condition\n",
        "if not x < 5:\n",
        "    print(\"x is not less than 5\")\n"
      ],
      "metadata": {
        "colab": {
          "base_uri": "https://localhost:8080/"
        },
        "id": "L-WwUgN5MZYg",
        "outputId": "82595665-d2c3-46fc-8ec1-ef4e05b8bd3c"
      },
      "execution_count": null,
      "outputs": [
        {
          "output_type": "stream",
          "name": "stdout",
          "text": [
            "x is a positive number less than 100\n",
            "Even\n",
            "Both conditions are true\n",
            "At least one condition is true\n",
            "x is not less than 5\n"
          ]
        }
      ]
    },
    {
      "cell_type": "markdown",
      "source": [
        "try:\n",
        "    # Code that might raise an error\n",
        "    risky_code()\n",
        "except SomeError:\n",
        "    # Code that runs if an error occurs\n",
        "    handle_error()\n"
      ],
      "metadata": {
        "id": "gt_zDPCgZRCX"
      }
    },
    {
      "cell_type": "code",
      "source": [
        "x=input(\"enter a input\")\n",
        "try:\n",
        "  x=int(x)\n",
        "  print(\"x is int\")\n",
        "except:\n",
        "  x=-1\n",
        "if x<0:\n",
        "  print(\"user enter non integer value\")"
      ],
      "metadata": {
        "colab": {
          "base_uri": "https://localhost:8080/"
        },
        "id": "-jvTIaxdZw2o",
        "outputId": "33532718-c76f-4f91-e894-87531d8ceef2"
      },
      "execution_count": null,
      "outputs": [
        {
          "output_type": "stream",
          "name": "stdout",
          "text": [
            "enter a inputl\n",
            "user enter non integer value\n"
          ]
        }
      ]
    },
    {
      "cell_type": "code",
      "source": [
        "try:\n",
        "    a = int(input(\"Enter numerator: \"))\n",
        "    b = int(input(\"Enter denominator: \"))\n",
        "    result = a / b\n",
        "    print(\"Result:\", result)\n",
        "except ZeroDivisionError:\n",
        "    print(\"Error: Cannot divide by zero\")\n",
        "except ValueError:\n",
        "    print(\"Error: Please enter valid integers\")\n",
        "except Exception as e:\n",
        "    print(\"An unexpected error occurred:\", e)"
      ],
      "metadata": {
        "colab": {
          "base_uri": "https://localhost:8080/"
        },
        "id": "ZkiCQYVrMZUe",
        "outputId": "0c62298a-27b8-4ee0-8de2-9af214473878"
      },
      "execution_count": null,
      "outputs": [
        {
          "output_type": "stream",
          "name": "stdout",
          "text": [
            "Enter numerator: l\n",
            "Error: Please enter valid integers\n"
          ]
        }
      ]
    },
    {
      "cell_type": "markdown",
      "source": [
        "# What is a Function?\n",
        "A function is a block of reusable code that performs a specific task.\n",
        "It can take input (parameters), perform operations, and optionally return output.\n",
        "\n",
        "# Basic Syntax of a Function\n",
        "def function_name(parameters):\n",
        "    #block of code\n",
        "    return result  # (optional)"
      ],
      "metadata": {
        "id": "CIiBp6JWdBF2"
      }
    },
    {
      "cell_type": "code",
      "source": [
        "# 1️⃣ Simple Function: No parameters, no return\n",
        "def greet():\n",
        "    print(\"Hello, welcome to Python!\")\n",
        "\n",
        "greet()  # Calling the simple function\n",
        "\n",
        "\n",
        "# 2️⃣ Function with Parameters: Takes input\n",
        "def add(a, b):\n",
        "    print(\"Sum:\", a + b)\n",
        "\n",
        "add(10, 5)  # Passing arguments to the function\n",
        "\n",
        "\n",
        "# 3️⃣ Function with Return Value: Returns result to the caller\n",
        "def multiply(x, y):\n",
        "    return x * y\n",
        "\n",
        "result = multiply(4, 5)\n",
        "print(\"Multiplication Result:\", result)\n",
        "\n",
        "\n",
        "# 4️⃣ Function with Default Parameter: Uses default value if no argument is passed\n",
        "def greet_user(name=\"Guest\"):\n",
        "    print(\"Hello\", name)\n",
        "\n",
        "greet_user()          # Uses default value\n",
        "greet_user(\"Abhishek\")  # Overrides default\n",
        "\n",
        "\n",
        "# 5️⃣ Function with Variable-Length Arguments (*args)\n",
        "def total_sum(*numbers):\n",
        "    print(\"Numbers:\", numbers)  # args are received as a tuple\n",
        "    print(\"Total Sum:\", sum(numbers))\n",
        "\n",
        "total_sum(1, 2, 3, 4, 5)\n",
        "\n",
        "\n",
        "# 6️⃣ Lambda Function: Anonymous function for short use\n",
        "square = lambda n: n * n\n",
        "print(\"Square of 6:\", square(6))\n",
        "\n",
        "\n",
        "# 7️⃣ Function with Keyword Arguments (**kwargs)\n",
        "def user_info(**kwargs):\n",
        "    print(\"User Info:\")\n",
        "    for key, value in kwargs.items():\n",
        "        print(key, \":\", value)\n",
        "\n",
        "user_info(name=\"Abhishek\", age=22, city=\"Davanagere\")\n",
        "\n",
        "\n",
        "# 8️⃣ Recursive Function: Function calling itself\n",
        "def factorial(n):\n",
        "    if n == 0 or n == 1:\n",
        "        return 1\n",
        "    else:\n",
        "        return n * factorial(n - 1)\n",
        "\n",
        "print(\"Factorial of 5:\", factorial(5))\n"
      ],
      "metadata": {
        "colab": {
          "base_uri": "https://localhost:8080/"
        },
        "id": "p3ARz5u_MZS8",
        "outputId": "890a9645-99d3-4982-ce9f-e0b66f190610"
      },
      "execution_count": null,
      "outputs": [
        {
          "output_type": "stream",
          "name": "stdout",
          "text": [
            "Hello, welcome to Python!\n",
            "Sum: 15\n",
            "Multiplication Result: 20\n",
            "Hello Guest\n",
            "Hello Abhishek\n",
            "Numbers: (1, 2, 3, 4, 5)\n",
            "Total Sum: 15\n",
            "Square of 6: 36\n",
            "User Info:\n",
            "name : Abhishek\n",
            "age : 22\n",
            "city : Davanagere\n",
            "Factorial of 5: 120\n"
          ]
        }
      ]
    },
    {
      "cell_type": "markdown",
      "source": [
        "# loops\n"
      ],
      "metadata": {
        "id": "ZYvv-XhM9gSz"
      }
    },
    {
      "cell_type": "code",
      "source": [
        "for i in [1,2,3,4,5]:\n",
        "  print(i)"
      ],
      "metadata": {
        "colab": {
          "base_uri": "https://localhost:8080/"
        },
        "id": "dzL3LHOlMZPd",
        "outputId": "ebe7b36f-8390-4030-c942-9f4e0c0a103f"
      },
      "execution_count": null,
      "outputs": [
        {
          "output_type": "stream",
          "name": "stdout",
          "text": [
            "1\n",
            "2\n",
            "3\n",
            "4\n",
            "5\n"
          ]
        }
      ]
    },
    {
      "cell_type": "code",
      "source": [
        "frd=['a','b','c']\n",
        "for i in frd:\n",
        "  print(i)\n",
        "print(frd[0])"
      ],
      "metadata": {
        "colab": {
          "base_uri": "https://localhost:8080/"
        },
        "id": "3-Nw4Zz9MZN-",
        "outputId": "5e924a2b-5a5f-42b8-bc26-8f02a991bb3d"
      },
      "execution_count": null,
      "outputs": [
        {
          "output_type": "stream",
          "name": "stdout",
          "text": [
            "a\n",
            "b\n",
            "c\n",
            "a\n"
          ]
        }
      ]
    },
    {
      "cell_type": "code",
      "source": [
        "a=[12,32,34,21,65,5,64,54,3,2]\n",
        "large_num=0\n",
        "for i in a:\n",
        "  if i>large_num:\n",
        "    large_num=i\n",
        "  print(large_num,i)\n",
        "print(large_num)"
      ],
      "metadata": {
        "colab": {
          "base_uri": "https://localhost:8080/"
        },
        "id": "B_hef1p1MY39",
        "outputId": "c95560af-6c95-4e9c-dad3-0c925008400a"
      },
      "execution_count": null,
      "outputs": [
        {
          "output_type": "stream",
          "name": "stdout",
          "text": [
            "12 12\n",
            "32 32\n",
            "34 34\n",
            "34 21\n",
            "65 65\n",
            "65 5\n",
            "65 64\n",
            "65 54\n",
            "65 3\n",
            "65 2\n",
            "65\n"
          ]
        }
      ]
    },
    {
      "cell_type": "code",
      "source": [
        "pip install opencv-python\n"
      ],
      "metadata": {
        "colab": {
          "base_uri": "https://localhost:8080/"
        },
        "id": "LABLfvYg6D2e",
        "outputId": "cbb486da-d3a3-4822-8175-a3919407a93a"
      },
      "execution_count": null,
      "outputs": [
        {
          "output_type": "stream",
          "name": "stdout",
          "text": [
            "Requirement already satisfied: opencv-python in /usr/local/lib/python3.11/dist-packages (4.12.0.88)\n",
            "Requirement already satisfied: numpy<2.3.0,>=2 in /usr/local/lib/python3.11/dist-packages (from opencv-python) (2.0.2)\n"
          ]
        }
      ]
    },
    {
      "cell_type": "code",
      "source": [],
      "metadata": {
        "id": "2_iJXloI6MOs"
      },
      "execution_count": 28,
      "outputs": []
    },
    {
      "cell_type": "code",
      "source": [],
      "metadata": {
        "id": "pfnxo4G76MKc"
      },
      "execution_count": null,
      "outputs": []
    },
    {
      "cell_type": "code",
      "source": [],
      "metadata": {
        "id": "8Or5sElo6MIw"
      },
      "execution_count": null,
      "outputs": []
    }
  ]
}